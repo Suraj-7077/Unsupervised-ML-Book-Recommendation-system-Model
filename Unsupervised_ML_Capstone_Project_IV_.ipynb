{
  "nbformat": 4,
  "nbformat_minor": 0,
  "metadata": {
    "colab": {
      "provenance": [],
      "authorship_tag": "ABX9TyNLI8TR7cm3G/lzXe6CCHZk",
      "include_colab_link": true
    },
    "kernelspec": {
      "name": "python3",
      "display_name": "Python 3"
    },
    "language_info": {
      "name": "python"
    }
  },
  "cells": [
    {
      "cell_type": "markdown",
      "metadata": {
        "id": "view-in-github",
        "colab_type": "text"
      },
      "source": [
        "<a href=\"https://colab.research.google.com/github/Suraj-7077/Unsupervised-ML-Book-Recommendation-system-Model/blob/main/Unsupervised_ML_Capstone_Project_IV_.ipynb\" target=\"_parent\"><img src=\"https://colab.research.google.com/assets/colab-badge.svg\" alt=\"Open In Colab\"/></a>"
      ]
    },
    {
      "cell_type": "markdown",
      "source": [
        "# **Project Name**    - \n",
        "\n"
      ],
      "metadata": {
        "id": "vncDsAP0Gaoa"
      }
    },
    {
      "cell_type": "markdown",
      "source": [
        "## **Project Type**    - EDA / Unsupervised ML / Recommendation System \n",
        "## **Project Title** - Book Recommendation System\n",
        "## **Contribution**    - Individual\n",
        "\n",
        "## **Contributor** - Suraj Shrikant Galande "
      ],
      "metadata": {
        "id": "beRrZCGUAJYm"
      }
    },
    {
      "cell_type": "markdown",
      "source": [
        "# **Project Summary -**"
      ],
      "metadata": {
        "id": "FJNUwmbgGyua"
      }
    },
    {
      "cell_type": "markdown",
      "source": [
        "During the last few decades, with the rise of Youtube, Amazon, Netflix, and many\n",
        "other such web services, recommender systems have taken more and more place\n",
        "in our lives. From e-commerce (suggest to buyers articles that could interest them)\n",
        "to online advertisement (suggest to users the right contents, matching their\n",
        "preferences), recommender systems are today unavoidable in our daily online\n",
        "journeys.\n",
        "\n",
        "In a very general way, recommender systems are algorithms aimed at suggesting\n",
        "relevant\n",
        "items to users (items being movies to watch, text to read, products to buy, or\n",
        "anything else depending on industries). \n",
        "\n",
        "Recommender systems are really critical in\n",
        "some industries as they can generate a huge amount of income when they are\n",
        "efficient or also be a way to stand out significantly from competitors. \n",
        "\n",
        "The main\n",
        "objective of this project is to create a book recommendation system for users.\n"
      ],
      "metadata": {
        "id": "LvHENyZUM-44"
      }
    },
    {
      "cell_type": "markdown",
      "source": [
        "# **GitHub Link -**"
      ],
      "metadata": {
        "id": "w6K7xa23Elo4"
      }
    },
    {
      "cell_type": "markdown",
      "source": [],
      "metadata": {
        "id": "jaUvQUo-QIWR"
      }
    }
  ]
}